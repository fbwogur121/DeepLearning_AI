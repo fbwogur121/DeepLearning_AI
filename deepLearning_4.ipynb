{
 "cells": [
  {
   "cell_type": "markdown",
   "id": "54ae7995",
   "metadata": {},
   "source": [
    "# EXCEL로 만든 인공신경망을 pytorch의 Tensor 클래스을 이용하여 만들기"
   ]
  },
  {
   "cell_type": "code",
   "execution_count": 1,
   "id": "a8dd1177",
   "metadata": {},
   "outputs": [],
   "source": [
    "import torch"
   ]
  },
  {
   "cell_type": "markdown",
   "id": "5cf050f5",
   "metadata": {},
   "source": [
    "필요한 함수의 정의하기"
   ]
  },
  {
   "cell_type": "code",
   "execution_count": 2,
   "id": "adedf3de",
   "metadata": {},
   "outputs": [],
   "source": [
    "def ReLU_func(outputs):\n",
    "    final_outputs = torch.maximum(torch.tensor(0),outputs)\n",
    "    return final_outputs\n",
    "\n",
    "def softmax(outputs):\n",
    "    exp_outputs = torch.exp(outputs)\n",
    "    softmax = exp_outputs / torch.sum(exp_outputs, dim=1, keepdims=True)\n",
    "    return softmax\n",
    "\n",
    "def cross_entropy(outputs, labels):\n",
    "    m = outputs.shape[0]\n",
    "    p = softmax(outputs)\n",
    "    labels = torch.argmax(labels, dim=1)\n",
    "    loss = -torch.log(p[range(m),labels])\n",
    "    return loss"
   ]
  },
  {
   "cell_type": "markdown",
   "id": "925873cb",
   "metadata": {},
   "source": [
    "Weigh 값 설정하기"
   ]
  },
  {
   "cell_type": "code",
   "execution_count": 3,
   "id": "4389a1d3",
   "metadata": {},
   "outputs": [],
   "source": [
    "w_ih = torch.Tensor([[1, -2, 3], [-2, 5, 3]])\n",
    "w_ho = torch.Tensor([[3, -2, 4], [-1, 2, 3], [2, -2, -4]])"
   ]
  },
  {
   "cell_type": "markdown",
   "id": "ea63028c",
   "metadata": {},
   "source": [
    "Batch가 3인 Input 값과 Labels값의 입력하기"
   ]
  },
  {
   "cell_type": "code",
   "execution_count": 4,
   "id": "5d2dec79",
   "metadata": {},
   "outputs": [],
   "source": [
    "input = torch.Tensor([[2,-4], [0,3], [-6,2]])\n",
    "labels = torch.Tensor([[1,0,0], [0,1,0], [0,0,1]])"
   ]
  },
  {
   "cell_type": "markdown",
   "id": "fef7cdb2",
   "metadata": {},
   "source": [
    "L1의 활성화 함수 전의 값 구하기"
   ]
  },
  {
   "cell_type": "code",
   "execution_count": 5,
   "id": "068c37dc",
   "metadata": {},
   "outputs": [
    {
     "name": "stdout",
     "output_type": "stream",
     "text": [
      "tensor([[ 10., -24.,  -6.],\n",
      "        [ -6.,  15.,   9.],\n",
      "        [-10.,  22., -12.]])\n"
     ]
    }
   ],
   "source": [
    "L1 = input.matmul(w_ih)\n",
    "print(L1)"
   ]
  },
  {
   "cell_type": "markdown",
   "id": "c4e24dad",
   "metadata": {},
   "source": [
    "ReLU의 적용하기"
   ]
  },
  {
   "cell_type": "code",
   "execution_count": 6,
   "id": "e0911c14",
   "metadata": {},
   "outputs": [
    {
     "name": "stdout",
     "output_type": "stream",
     "text": [
      "tensor([[10.,  0.,  0.],\n",
      "        [ 0., 15.,  9.],\n",
      "        [ 0., 22.,  0.]])\n"
     ]
    }
   ],
   "source": [
    "L1 = ReLU_func(L1)\n",
    "print(L1)"
   ]
  },
  {
   "cell_type": "markdown",
   "id": "4a0ddf4c",
   "metadata": {},
   "source": [
    "Output 구하기"
   ]
  },
  {
   "cell_type": "code",
   "execution_count": 7,
   "id": "bc820202",
   "metadata": {},
   "outputs": [
    {
     "name": "stdout",
     "output_type": "stream",
     "text": [
      "tensor([[ 30., -20.,  40.],\n",
      "        [  3.,  12.,   9.],\n",
      "        [-22.,  44.,  66.]])\n"
     ]
    }
   ],
   "source": [
    "outputs = L1.matmul(w_ho)\n",
    "print(outputs)"
   ]
  },
  {
   "cell_type": "markdown",
   "id": "fcdaa328",
   "metadata": {},
   "source": [
    "Softmax의 적용"
   ]
  },
  {
   "cell_type": "code",
   "execution_count": 8,
   "id": "dd5e4093",
   "metadata": {},
   "outputs": [
    {
     "name": "stdout",
     "output_type": "stream",
     "text": [
      "tensor([[4.5398e-05, 8.7561e-27, 9.9995e-01],\n",
      "        [1.1754e-04, 9.5246e-01, 4.7420e-02],\n",
      "        [6.0546e-39, 2.7895e-10, 1.0000e+00]])\n"
     ]
    }
   ],
   "source": [
    "so = softmax(torch.Tensor(outputs))\n",
    "print(so)"
   ]
  },
  {
   "cell_type": "markdown",
   "id": "145ddc92",
   "metadata": {},
   "source": [
    "sample별로 loss 구하기"
   ]
  },
  {
   "cell_type": "code",
   "execution_count": 9,
   "id": "69976112",
   "metadata": {},
   "outputs": [
    {
     "name": "stdout",
     "output_type": "stream",
     "text": [
      "tensor([10.0000,  0.0487, -0.0000])\n"
     ]
    }
   ],
   "source": [
    "loss = cross_entropy(outputs, labels)\n",
    "print(loss)"
   ]
  },
  {
   "cell_type": "markdown",
   "id": "6d2edf4b",
   "metadata": {},
   "source": [
    "최종 loss 구하기"
   ]
  },
  {
   "cell_type": "code",
   "execution_count": 10,
   "id": "09558a09",
   "metadata": {},
   "outputs": [
    {
     "name": "stdout",
     "output_type": "stream",
     "text": [
      "tensor(3.3496)\n"
     ]
    }
   ],
   "source": [
    "loss = torch.sum(loss) / 3\n",
    "print(loss)"
   ]
  },
  {
   "cell_type": "markdown",
   "id": "a184e3f5",
   "metadata": {},
   "source": [
    "# EXCEL과 같은 답이 나오는가?\n",
    "## 아니면 이유가 무엇인가?\n",
    "답변 하시오"
   ]
  },
  {
   "cell_type": "markdown",
   "id": "4dcb65f5",
   "metadata": {},
   "source": [
    "다른 답이 나옴.  \n",
    "이유:같은 입력을 하더라도 Excel과 PyTorch는 데이터 처리 방식, 연산 방법, 데이터 유형 등에서 차이가 있으므로 결과가 다를 수 있다.\n",
    "1. Excel은 수식 계산을 사용하여 결과를 생성하고 실제로 텐서 연산을 수행하지는 않는다. 따라서 일부 수학적 계산에서 오차가 발생할 수 있다.\n",
    "\n",
    "2. Excel은 대규모 데이터 집합을 다루기에는 적합하지 않다. 메모리 제한이 있기 때문에 대용량 데이터 처리에 어려움이 있기 때문이다. 반면, PyTorch는 GPU를 사용하여 연산을 수행하기 때문에 빠르게 대규모 데이터 처리가 가능하다.\n",
    "\n",
    "3. Excel과 PyTorch는 데이터 유형과 저장 방식이 다르다. Excel은 일반적으로 텍스트 데이터를 처리하며, PyTorch는 다차원 배열로 처리합니다. 이러한 차이로 인해 데이터 변환이 필요할 수 있으며, 이는 결과에도 영향을 미칠 수 있다.\n",
    "\n",
    "4. Excel은 일반적으로 데이터를 행렬 형태로 처리합니다. PyTorch는 텐서를 사용하여 다차원 배열을 처리한다. 이러한 차이로 인해 데이터의 차원이나 형태가 다를 수 있으며, 이는 결과의 차이를 일으킬 수 있다."
   ]
  },
  {
   "cell_type": "code",
   "execution_count": 11,
   "id": "8b63ac67",
   "metadata": {},
   "outputs": [
    {
     "name": "stdout",
     "output_type": "stream",
     "text": [
      "2019125022 류재혁\n"
     ]
    }
   ],
   "source": [
    "print(\"2019125022 류재혁\")"
   ]
  }
 ],
 "metadata": {
  "kernelspec": {
   "display_name": "Python 3 (ipykernel)",
   "language": "python",
   "name": "python3"
  },
  "language_info": {
   "codemirror_mode": {
    "name": "ipython",
    "version": 3
   },
   "file_extension": ".py",
   "mimetype": "text/x-python",
   "name": "python",
   "nbconvert_exporter": "python",
   "pygments_lexer": "ipython3",
   "version": "3.10.9"
  }
 },
 "nbformat": 4,
 "nbformat_minor": 5
}
